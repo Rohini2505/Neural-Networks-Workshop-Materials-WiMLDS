{
 "cells": [
  {
   "cell_type": "markdown",
   "metadata": {},
   "source": [
    "## Code for converting CIFAR 10 h5py file to numpy arrays\n",
    "- Not used for the tutorial, provided as a util file to process CIFAR 10 data for Keras\n",
    "- One hot encodes labels\n",
    "- Creates smaller dataset with only two classes, airplane and cat\n",
    "- Assumes data has been downloaded and extracted to 'train.h5' and 'test.h5'"
   ]
  },
  {
   "cell_type": "markdown",
   "metadata": {},
   "source": [
    "### Note\n",
    "- This script assumes that train.h5 and test.h5 have been created and saved to this directory using the creatingdatasets_cifar10.py script"
   ]
  },
  {
   "cell_type": "code",
   "execution_count": 1,
   "metadata": {
    "collapsed": false
   },
   "outputs": [],
   "source": [
    "import h5py\n",
    "import pickle\n",
    "from sklearn.preprocessing import OneHotEncoder\n",
    "import numpy as np"
   ]
  },
  {
   "cell_type": "code",
   "execution_count": 47,
   "metadata": {
    "collapsed": false
   },
   "outputs": [
    {
     "data": {
      "text/plain": [
       "[('data', <HDF5 dataset \"data\": shape (50000, 3, 32, 32), type \"|u1\">),\n",
       " ('label', <HDF5 dataset \"label\": shape (50000,), type \"<i8\">)]"
      ]
     },
     "execution_count": 47,
     "metadata": {},
     "output_type": "execute_result"
    }
   ],
   "source": [
    "f1 = h5py.File('train.h5', 'r')\n",
    "list(f1.items())"
   ]
  },
  {
   "cell_type": "code",
   "execution_count": 48,
   "metadata": {
    "collapsed": false
   },
   "outputs": [
    {
     "data": {
      "text/plain": [
       "[('data', <HDF5 dataset \"data\": shape (10000, 3, 32, 32), type \"|u1\">),\n",
       " ('label', <HDF5 dataset \"label\": shape (10000,), type \"<i8\">)]"
      ]
     },
     "execution_count": 48,
     "metadata": {},
     "output_type": "execute_result"
    }
   ],
   "source": [
    "f2 = h5py.File('test.h5', 'r')\n",
    "list(f2.items())"
   ]
  },
  {
   "cell_type": "code",
   "execution_count": 49,
   "metadata": {
    "collapsed": false
   },
   "outputs": [
    {
     "name": "stdout",
     "output_type": "stream",
     "text": [
      "['data', 'label']\n",
      "['data', 'label']\n"
     ]
    }
   ],
   "source": [
    "print(list(f1.keys()))\n",
    "print(list(f2.keys()))"
   ]
  },
  {
   "cell_type": "code",
   "execution_count": 50,
   "metadata": {
    "collapsed": false
   },
   "outputs": [
    {
     "name": "stdout",
     "output_type": "stream",
     "text": [
      "Train data shape: (50000, 3, 32, 32)\n",
      "Train labels shape: (50000,)\n",
      "Test data shape: (10000, 3, 32, 32)\n",
      "Test labels shape: (10000,)\n"
     ]
    }
   ],
   "source": [
    "train_data = f1['data'][()]\n",
    "train_labels = f1['label'][()]\n",
    "test_data = f2['data'][()]\n",
    "test_labels = f2['label'][()]\n",
    "print(\"Train data shape: {}\".format(train_data.shape))\n",
    "print(\"Train labels shape: {}\".format(train_labels.shape))\n",
    "print(\"Test data shape: {}\".format(test_data.shape))\n",
    "print(\"Test labels shape: {}\".format(test_labels.shape))"
   ]
  },
  {
   "cell_type": "code",
   "execution_count": 51,
   "metadata": {
    "collapsed": false
   },
   "outputs": [
    {
     "name": "stdout",
     "output_type": "stream",
     "text": [
      "(50000, 1)\n",
      "(10000, 1)\n",
      "Train labels shape: (50000, 10)\n",
      "Test labels shape: (10000, 10)\n"
     ]
    }
   ],
   "source": [
    "# Convert labels to one hot encoding\n",
    "encoder = OneHotEncoder(sparse=False)\n",
    "train_labels = train_labels.reshape(-1, 1)\n",
    "print(train_labels.shape)\n",
    "test_labels = test_labels.reshape(-1, 1)\n",
    "print(test_labels.shape)\n",
    "train_labels_one_hot = encoder.fit_transform(train_labels)\n",
    "test_labels_one_hot = encoder.fit_transform(test_labels)\n",
    "print(\"Train labels shape: {}\".format(train_labels_one_hot.shape))\n",
    "print(\"Test labels shape: {}\".format(test_labels_one_hot.shape))"
   ]
  },
  {
   "cell_type": "code",
   "execution_count": 52,
   "metadata": {
    "collapsed": false
   },
   "outputs": [],
   "source": [
    "pickle.dump(train_data, open(\"CIFAR_10_train_data.pkl\", 'wb'), protocol=2)\n",
    "pickle.dump(train_labels_one_hot, open(\"CIFAR_10_train_labels.pkl\", 'wb'), protocol=2)\n",
    "pickle.dump(test_data, open(\"CIFAR_10_test_data.pkl\", 'wb'), protocol=2)\n",
    "pickle.dump(test_labels_one_hot, open(\"CIFAR_10_test_labels.pkl\", 'wb'), protocol=2)"
   ]
  },
  {
   "cell_type": "code",
   "execution_count": 111,
   "metadata": {
    "collapsed": false
   },
   "outputs": [
    {
     "name": "stdout",
     "output_type": "stream",
     "text": [
      "[[False]\n",
      " [False]\n",
      " [ True]\n",
      " [False]\n",
      " [False]\n",
      " [False]\n",
      " [False]\n",
      " [ True]\n",
      " [False]\n",
      " [False]]\n",
      "[[False]\n",
      " [False]\n",
      " [False]\n",
      " [False]\n",
      " [False]\n",
      " [False]\n",
      " [False]\n",
      " [False]\n",
      " [False]\n",
      " [False]]\n",
      "[[False]\n",
      " [False]\n",
      " [ True]\n",
      " [False]\n",
      " [False]\n",
      " [False]\n",
      " [False]\n",
      " [ True]\n",
      " [False]\n",
      " [False]]\n",
      "[ 2  7 12 20 31 33 34 36 39 40]\n",
      "[[False]\n",
      " [False]\n",
      " [False]\n",
      " [False]\n",
      " [False]\n",
      " [ True]\n",
      " [False]\n",
      " [False]\n",
      " [ True]\n",
      " [False]]\n",
      "[ 5  8 12 18 21 31 37 42 48 60]\n"
     ]
    }
   ],
   "source": [
    "# Create subset of data with only two classes (airplane or cat)\n",
    "airplane = train_labels==0\n",
    "cat = train_labels==3\n",
    "airandcat_train = (train_labels==0) | (train_labels==3)\n",
    "print(airplane[:10])\n",
    "print(cat[:10])\n",
    "print(airandcat_train[:10])\n",
    "airandcat_train_ix = np.where(airandcat_train)[0]\n",
    "print(airandcat_train_ix[:10])\n",
    "airandcat_test = (test_labels==0) | (test_labels==3)\n",
    "print(airandcat_test[:10])\n",
    "airandcat_test_ix = np.where(airandcat_test)[0]\n",
    "print(airandcat_test_ix[:10])"
   ]
  },
  {
   "cell_type": "code",
   "execution_count": 112,
   "metadata": {
    "collapsed": false
   },
   "outputs": [],
   "source": [
    "train_data_2classes = train_data[airandcat_train_ix,::]\n",
    "train_labels_2classes = train_labels[airandcat_train_ix]\n",
    "test_data_2classes = test_data[airandcat_test_ix,::]\n",
    "test_labels_2classes = test_labels[airandcat_test_ix]"
   ]
  },
  {
   "cell_type": "code",
   "execution_count": 113,
   "metadata": {
    "collapsed": false
   },
   "outputs": [
    {
     "name": "stdout",
     "output_type": "stream",
     "text": [
      "[10000]\n",
      "(50000, 1)\n",
      "(50000, 3, 32, 32)\n",
      "(10000, 3, 32, 32)\n",
      "(10000, 1)\n",
      "[2000]\n",
      "(10000, 1)\n",
      "(10000, 3, 32, 32)\n",
      "(2000, 3, 32, 32)\n",
      "(2000, 1)\n"
     ]
    }
   ],
   "source": [
    "print(sum(airandcat_train))\n",
    "print(airandcat_train.shape)\n",
    "print(train_data.shape)\n",
    "print(train_data_2classes.shape)\n",
    "print(train_labels_2classes.shape)\n",
    "print(sum(airandcat_test))\n",
    "print(airandcat_test.shape)\n",
    "print(test_data.shape)\n",
    "print(test_data_2classes.shape)\n",
    "print(test_labels_2classes.shape)"
   ]
  },
  {
   "cell_type": "code",
   "execution_count": 116,
   "metadata": {
    "collapsed": false
   },
   "outputs": [
    {
     "name": "stdout",
     "output_type": "stream",
     "text": [
      "(10000, 1)\n",
      "(2000, 1)\n",
      "Train 2 classes labels shape: (10000, 2)\n",
      "Test 2 classes labels shape: (2000, 2)\n"
     ]
    }
   ],
   "source": [
    "# Convert labels to one hot encoding\n",
    "encoder = OneHotEncoder(sparse=False)\n",
    "train_labels_2classes = train_labels_2classes.reshape(-1, 1)\n",
    "print(train_labels_2classes.shape)\n",
    "test_labels_2classes = test_labels_2classes.reshape(-1, 1)\n",
    "print(test_labels_2classes.shape)\n",
    "train_labels_2classes_one_hot = encoder.fit_transform(train_labels_2classes)\n",
    "test_labels_2classes_one_hot = encoder.fit_transform(test_labels_2classes)\n",
    "print(\"Train 2 classes labels shape: {}\".format(train_labels_2classes_one_hot.shape))\n",
    "print(\"Test 2 classes labels shape: {}\".format(test_labels_2classes_one_hot.shape))"
   ]
  },
  {
   "cell_type": "code",
   "execution_count": 117,
   "metadata": {
    "collapsed": true
   },
   "outputs": [],
   "source": [
    "pickle.dump(train_data_2classes, open(\"CIFAR_2_train_data.pkl\", 'wb'), protocol=2)\n",
    "pickle.dump(train_labels_2classes_one_hot, open(\"CIFAR_2_train_labels.pkl\", 'wb'), protocol=2)\n",
    "pickle.dump(test_data_2classes, open(\"CIFAR_2_test_data.pkl\", 'wb'), protocol=2)\n",
    "pickle.dump(test_labels_2classes_one_hot, open(\"CIFAR_2_test_labels.pkl\", 'wb'), protocol=2)"
   ]
  }
 ],
 "metadata": {
  "kernelspec": {
   "display_name": "Python 3",
   "language": "python",
   "name": "python3"
  },
  "language_info": {
   "codemirror_mode": {
    "name": "ipython",
    "version": 3
   },
   "file_extension": ".py",
   "mimetype": "text/x-python",
   "name": "python",
   "nbconvert_exporter": "python",
   "pygments_lexer": "ipython3",
   "version": "3.5.2"
  }
 },
 "nbformat": 4,
 "nbformat_minor": 0
}
